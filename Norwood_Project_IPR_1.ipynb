{
  "nbformat": 4,
  "nbformat_minor": 0,
  "metadata": {
    "colab": {
      "name": "Norwood_Project_IPR_1.ipynb",
      "provenance": [],
      "collapsed_sections": []
    },
    "kernelspec": {
      "name": "python3",
      "display_name": "Python 3"
    }
  },
  "cells": [
    {
      "cell_type": "markdown",
      "metadata": {
        "id": "YTlwlxD-mJXW",
        "colab_type": "text"
      },
      "source": [
        "# Creating an Generative Advesarial Network from the [Free Music Archive dataset](https://github.com/mdeff/fma)\n",
        "\n",
        "##Problem\n",
        "Can we use the FMA dataset to create artificial music?\n",
        "\n",
        "Generative Adversarial Networks have become quite common in image generation, but remain relatively unexplored in music.\n",
        "\n",
        "From my reserach, this will be the first GAN created using the FMA dataset. Indeed, there are few GANs that use mp3 data at all. Most use midi files. \n",
        "\n",
        "\n",
        "\n"
      ]
    },
    {
      "cell_type": "code",
      "metadata": {
        "id": "2u4MSUJXvi9H",
        "colab_type": "code",
        "outputId": "bd811eb8-438a-4760-fafb-2525230e4dd7",
        "colab": {
          "base_uri": "https://localhost:8080/",
          "height": 35
        }
      },
      "source": [
        "from __future__ import absolute_import, division, print_function, unicode_literals\n",
        "import keras\n",
        "keras.__version__\n",
        "import os\n",
        "import pathlib\n",
        "import functools\n",
        "import numpy as np\n",
        "import tensorflow as tf\n",
        "import pandas as pd\n",
        "import matplotlib.pyplot as plt\n",
        "\n",
        "\n",
        "!pip install pydub\n",
        "\n",
        "from pydub import AudioSegment\n",
        "from os import path\n",
        "\n",
        "\n",
        "\n",
        "# from google.colab import drive\n",
        "# drive.mount('/gdrive', force_remount=True)\n"
      ],
      "execution_count": 34,
      "outputs": [
        {
          "output_type": "stream",
          "text": [
            "Requirement already satisfied: pydub in /usr/local/lib/python3.6/dist-packages (0.23.1)\n"
          ],
          "name": "stdout"
        }
      ]
    },
    {
      "cell_type": "markdown",
      "metadata": {
        "id": "EMSkVtWzEz2V",
        "colab_type": "text"
      },
      "source": [
        "#Examining Dataset\n",
        "FMA consists of 917 GB of Creative Commons-licensed audio from 106,574 tracks from 16,341 artists and 14,854 albums in mp3 format. The dataset also consists of computed features, metadata, tags, and associated freeform text such as biographies ([Defferard et alt.](https://arxiv.org/abs/1612.01840)). The only part of this dataset that I beleive is relevant to my project is the actual mp3 data itself."
      ]
    },
    {
      "cell_type": "markdown",
      "metadata": {
        "id": "POybXl6yk0jh",
        "colab_type": "text"
      },
      "source": [
        "Download metadata for the Free Music Archive dataset:"
      ]
    },
    {
      "cell_type": "code",
      "metadata": {
        "id": "99E-ZZctw003",
        "colab_type": "code",
        "colab": {}
      },
      "source": [
        "fma_metadata = keras.utils.get_file(origin='https://os.unil.cloud.switch.ch/fma/fma_metadata.zip', fname='fma_metadata.zip',extract=True)\n",
        "fma_metadata = pathlib.Path(fma_metadata)"
      ],
      "execution_count": 0,
      "outputs": []
    },
    {
      "cell_type": "markdown",
      "metadata": {
        "id": "vaMKum0Pk37B",
        "colab_type": "text"
      },
      "source": [
        "\n",
        "Given limitations of Google Colab, I only examine a  subset of the data in this IPR. Namely, the lack of ability to conveniently store 917 GB of data. The subset I examine is named `fma_small` and consists of 8,000 tracks of 30 seconds each. I will use this dataset to create a working network that I will then train on the whole dataset on an EECS machine."
      ]
    },
    {
      "cell_type": "code",
      "metadata": {
        "id": "p_3B9by2XEVU",
        "colab_type": "code",
        "colab": {}
      },
      "source": [
        "fma_music_small = keras.utils.get_file(origin='https://os.unil.cloud.switch.ch/fma/fma_small.zip', fname='fma_small.zip',extract=True)\n",
        "fma_music_small = pathlib.Path(fma_music_small)"
      ],
      "execution_count": 0,
      "outputs": []
    },
    {
      "cell_type": "markdown",
      "metadata": {
        "id": "JHZOsYmeRhRj",
        "colab_type": "text"
      },
      "source": [
        "View headers from metadata\n"
      ]
    },
    {
      "cell_type": "code",
      "metadata": {
        "id": "V6lFueHbU5an",
        "colab_type": "code",
        "outputId": "7d9918a9-cab8-4d82-ebb2-841774bda25c",
        "colab": {
          "base_uri": "https://localhost:8080/",
          "height": 531
        }
      },
      "source": [
        "metadata = pd.read_csv(os.path.join('/root/.keras/datasets/fma_metadata','tracks.csv'))\n",
        "metadata.head()"
      ],
      "execution_count": 53,
      "outputs": [
        {
          "output_type": "stream",
          "text": [
            "/usr/local/lib/python3.6/dist-packages/IPython/core/interactiveshell.py:2718: DtypeWarning: Columns (0,1,5,6,8,12,18,20,21,22,24,33,34,38,39,44,47,49) have mixed types. Specify dtype option on import or set low_memory=False.\n",
            "  interactivity=interactivity, compiler=compiler, result=result)\n"
          ],
          "name": "stderr"
        },
        {
          "output_type": "execute_result",
          "data": {
            "text/html": [
              "<div>\n",
              "<style scoped>\n",
              "    .dataframe tbody tr th:only-of-type {\n",
              "        vertical-align: middle;\n",
              "    }\n",
              "\n",
              "    .dataframe tbody tr th {\n",
              "        vertical-align: top;\n",
              "    }\n",
              "\n",
              "    .dataframe thead th {\n",
              "        text-align: right;\n",
              "    }\n",
              "</style>\n",
              "<table border=\"1\" class=\"dataframe\">\n",
              "  <thead>\n",
              "    <tr style=\"text-align: right;\">\n",
              "      <th></th>\n",
              "      <th>Unnamed: 0</th>\n",
              "      <th>album</th>\n",
              "      <th>album.1</th>\n",
              "      <th>album.2</th>\n",
              "      <th>album.3</th>\n",
              "      <th>album.4</th>\n",
              "      <th>album.5</th>\n",
              "      <th>album.6</th>\n",
              "      <th>album.7</th>\n",
              "      <th>album.8</th>\n",
              "      <th>album.9</th>\n",
              "      <th>album.10</th>\n",
              "      <th>album.11</th>\n",
              "      <th>album.12</th>\n",
              "      <th>artist</th>\n",
              "      <th>artist.1</th>\n",
              "      <th>artist.2</th>\n",
              "      <th>artist.3</th>\n",
              "      <th>artist.4</th>\n",
              "      <th>artist.5</th>\n",
              "      <th>artist.6</th>\n",
              "      <th>artist.7</th>\n",
              "      <th>artist.8</th>\n",
              "      <th>artist.9</th>\n",
              "      <th>artist.10</th>\n",
              "      <th>artist.11</th>\n",
              "      <th>artist.12</th>\n",
              "      <th>artist.13</th>\n",
              "      <th>artist.14</th>\n",
              "      <th>artist.15</th>\n",
              "      <th>artist.16</th>\n",
              "      <th>set</th>\n",
              "      <th>set.1</th>\n",
              "      <th>track</th>\n",
              "      <th>track.1</th>\n",
              "      <th>track.2</th>\n",
              "      <th>track.3</th>\n",
              "      <th>track.4</th>\n",
              "      <th>track.5</th>\n",
              "      <th>track.6</th>\n",
              "      <th>track.7</th>\n",
              "      <th>track.8</th>\n",
              "      <th>track.9</th>\n",
              "      <th>track.10</th>\n",
              "      <th>track.11</th>\n",
              "      <th>track.12</th>\n",
              "      <th>track.13</th>\n",
              "      <th>track.14</th>\n",
              "      <th>track.15</th>\n",
              "      <th>track.16</th>\n",
              "      <th>track.17</th>\n",
              "      <th>track.18</th>\n",
              "      <th>track.19</th>\n",
              "    </tr>\n",
              "  </thead>\n",
              "  <tbody>\n",
              "    <tr>\n",
              "      <th>0</th>\n",
              "      <td>NaN</td>\n",
              "      <td>comments</td>\n",
              "      <td>date_created</td>\n",
              "      <td>date_released</td>\n",
              "      <td>engineer</td>\n",
              "      <td>favorites</td>\n",
              "      <td>id</td>\n",
              "      <td>information</td>\n",
              "      <td>listens</td>\n",
              "      <td>producer</td>\n",
              "      <td>tags</td>\n",
              "      <td>title</td>\n",
              "      <td>tracks</td>\n",
              "      <td>type</td>\n",
              "      <td>active_year_begin</td>\n",
              "      <td>active_year_end</td>\n",
              "      <td>associated_labels</td>\n",
              "      <td>bio</td>\n",
              "      <td>comments</td>\n",
              "      <td>date_created</td>\n",
              "      <td>favorites</td>\n",
              "      <td>id</td>\n",
              "      <td>latitude</td>\n",
              "      <td>location</td>\n",
              "      <td>longitude</td>\n",
              "      <td>members</td>\n",
              "      <td>name</td>\n",
              "      <td>related_projects</td>\n",
              "      <td>tags</td>\n",
              "      <td>website</td>\n",
              "      <td>wikipedia_page</td>\n",
              "      <td>split</td>\n",
              "      <td>subset</td>\n",
              "      <td>bit_rate</td>\n",
              "      <td>comments</td>\n",
              "      <td>composer</td>\n",
              "      <td>date_created</td>\n",
              "      <td>date_recorded</td>\n",
              "      <td>duration</td>\n",
              "      <td>favorites</td>\n",
              "      <td>genre_top</td>\n",
              "      <td>genres</td>\n",
              "      <td>genres_all</td>\n",
              "      <td>information</td>\n",
              "      <td>interest</td>\n",
              "      <td>language_code</td>\n",
              "      <td>license</td>\n",
              "      <td>listens</td>\n",
              "      <td>lyricist</td>\n",
              "      <td>number</td>\n",
              "      <td>publisher</td>\n",
              "      <td>tags</td>\n",
              "      <td>title</td>\n",
              "    </tr>\n",
              "    <tr>\n",
              "      <th>1</th>\n",
              "      <td>track_id</td>\n",
              "      <td>NaN</td>\n",
              "      <td>NaN</td>\n",
              "      <td>NaN</td>\n",
              "      <td>NaN</td>\n",
              "      <td>NaN</td>\n",
              "      <td>NaN</td>\n",
              "      <td>NaN</td>\n",
              "      <td>NaN</td>\n",
              "      <td>NaN</td>\n",
              "      <td>NaN</td>\n",
              "      <td>NaN</td>\n",
              "      <td>NaN</td>\n",
              "      <td>NaN</td>\n",
              "      <td>NaN</td>\n",
              "      <td>NaN</td>\n",
              "      <td>NaN</td>\n",
              "      <td>NaN</td>\n",
              "      <td>NaN</td>\n",
              "      <td>NaN</td>\n",
              "      <td>NaN</td>\n",
              "      <td>NaN</td>\n",
              "      <td>NaN</td>\n",
              "      <td>NaN</td>\n",
              "      <td>NaN</td>\n",
              "      <td>NaN</td>\n",
              "      <td>NaN</td>\n",
              "      <td>NaN</td>\n",
              "      <td>NaN</td>\n",
              "      <td>NaN</td>\n",
              "      <td>NaN</td>\n",
              "      <td>NaN</td>\n",
              "      <td>NaN</td>\n",
              "      <td>NaN</td>\n",
              "      <td>NaN</td>\n",
              "      <td>NaN</td>\n",
              "      <td>NaN</td>\n",
              "      <td>NaN</td>\n",
              "      <td>NaN</td>\n",
              "      <td>NaN</td>\n",
              "      <td>NaN</td>\n",
              "      <td>NaN</td>\n",
              "      <td>NaN</td>\n",
              "      <td>NaN</td>\n",
              "      <td>NaN</td>\n",
              "      <td>NaN</td>\n",
              "      <td>NaN</td>\n",
              "      <td>NaN</td>\n",
              "      <td>NaN</td>\n",
              "      <td>NaN</td>\n",
              "      <td>NaN</td>\n",
              "      <td>NaN</td>\n",
              "      <td>NaN</td>\n",
              "    </tr>\n",
              "    <tr>\n",
              "      <th>2</th>\n",
              "      <td>2</td>\n",
              "      <td>0</td>\n",
              "      <td>2008-11-26 01:44:45</td>\n",
              "      <td>2009-01-05 00:00:00</td>\n",
              "      <td>NaN</td>\n",
              "      <td>4</td>\n",
              "      <td>1</td>\n",
              "      <td>&lt;p&gt;&lt;/p&gt;</td>\n",
              "      <td>6073</td>\n",
              "      <td>NaN</td>\n",
              "      <td>[]</td>\n",
              "      <td>AWOL - A Way Of Life</td>\n",
              "      <td>7</td>\n",
              "      <td>Album</td>\n",
              "      <td>2006-01-01 00:00:00</td>\n",
              "      <td>NaN</td>\n",
              "      <td>NaN</td>\n",
              "      <td>&lt;p&gt;A Way Of Life, A Collective of Hip-Hop from...</td>\n",
              "      <td>0</td>\n",
              "      <td>2008-11-26 01:42:32</td>\n",
              "      <td>9</td>\n",
              "      <td>1</td>\n",
              "      <td>40.0583238</td>\n",
              "      <td>New Jersey</td>\n",
              "      <td>-74.4056612</td>\n",
              "      <td>Sajje Morocco,Brownbum,ZawidaGod,Custodian of ...</td>\n",
              "      <td>AWOL</td>\n",
              "      <td>The list of past projects is 2 long but every1...</td>\n",
              "      <td>['awol']</td>\n",
              "      <td>http://www.AzillionRecords.blogspot.com</td>\n",
              "      <td>NaN</td>\n",
              "      <td>training</td>\n",
              "      <td>small</td>\n",
              "      <td>256000</td>\n",
              "      <td>0</td>\n",
              "      <td>NaN</td>\n",
              "      <td>2008-11-26 01:48:12</td>\n",
              "      <td>2008-11-26 00:00:00</td>\n",
              "      <td>168</td>\n",
              "      <td>2</td>\n",
              "      <td>Hip-Hop</td>\n",
              "      <td>[21]</td>\n",
              "      <td>[21]</td>\n",
              "      <td>NaN</td>\n",
              "      <td>4656</td>\n",
              "      <td>en</td>\n",
              "      <td>Attribution-NonCommercial-ShareAlike 3.0 Inter...</td>\n",
              "      <td>1293</td>\n",
              "      <td>NaN</td>\n",
              "      <td>3</td>\n",
              "      <td>NaN</td>\n",
              "      <td>[]</td>\n",
              "      <td>Food</td>\n",
              "    </tr>\n",
              "    <tr>\n",
              "      <th>3</th>\n",
              "      <td>3</td>\n",
              "      <td>0</td>\n",
              "      <td>2008-11-26 01:44:45</td>\n",
              "      <td>2009-01-05 00:00:00</td>\n",
              "      <td>NaN</td>\n",
              "      <td>4</td>\n",
              "      <td>1</td>\n",
              "      <td>&lt;p&gt;&lt;/p&gt;</td>\n",
              "      <td>6073</td>\n",
              "      <td>NaN</td>\n",
              "      <td>[]</td>\n",
              "      <td>AWOL - A Way Of Life</td>\n",
              "      <td>7</td>\n",
              "      <td>Album</td>\n",
              "      <td>2006-01-01 00:00:00</td>\n",
              "      <td>NaN</td>\n",
              "      <td>NaN</td>\n",
              "      <td>&lt;p&gt;A Way Of Life, A Collective of Hip-Hop from...</td>\n",
              "      <td>0</td>\n",
              "      <td>2008-11-26 01:42:32</td>\n",
              "      <td>9</td>\n",
              "      <td>1</td>\n",
              "      <td>40.0583238</td>\n",
              "      <td>New Jersey</td>\n",
              "      <td>-74.4056612</td>\n",
              "      <td>Sajje Morocco,Brownbum,ZawidaGod,Custodian of ...</td>\n",
              "      <td>AWOL</td>\n",
              "      <td>The list of past projects is 2 long but every1...</td>\n",
              "      <td>['awol']</td>\n",
              "      <td>http://www.AzillionRecords.blogspot.com</td>\n",
              "      <td>NaN</td>\n",
              "      <td>training</td>\n",
              "      <td>medium</td>\n",
              "      <td>256000</td>\n",
              "      <td>0</td>\n",
              "      <td>NaN</td>\n",
              "      <td>2008-11-26 01:48:14</td>\n",
              "      <td>2008-11-26 00:00:00</td>\n",
              "      <td>237</td>\n",
              "      <td>1</td>\n",
              "      <td>Hip-Hop</td>\n",
              "      <td>[21]</td>\n",
              "      <td>[21]</td>\n",
              "      <td>NaN</td>\n",
              "      <td>1470</td>\n",
              "      <td>en</td>\n",
              "      <td>Attribution-NonCommercial-ShareAlike 3.0 Inter...</td>\n",
              "      <td>514</td>\n",
              "      <td>NaN</td>\n",
              "      <td>4</td>\n",
              "      <td>NaN</td>\n",
              "      <td>[]</td>\n",
              "      <td>Electric Ave</td>\n",
              "    </tr>\n",
              "    <tr>\n",
              "      <th>4</th>\n",
              "      <td>5</td>\n",
              "      <td>0</td>\n",
              "      <td>2008-11-26 01:44:45</td>\n",
              "      <td>2009-01-05 00:00:00</td>\n",
              "      <td>NaN</td>\n",
              "      <td>4</td>\n",
              "      <td>1</td>\n",
              "      <td>&lt;p&gt;&lt;/p&gt;</td>\n",
              "      <td>6073</td>\n",
              "      <td>NaN</td>\n",
              "      <td>[]</td>\n",
              "      <td>AWOL - A Way Of Life</td>\n",
              "      <td>7</td>\n",
              "      <td>Album</td>\n",
              "      <td>2006-01-01 00:00:00</td>\n",
              "      <td>NaN</td>\n",
              "      <td>NaN</td>\n",
              "      <td>&lt;p&gt;A Way Of Life, A Collective of Hip-Hop from...</td>\n",
              "      <td>0</td>\n",
              "      <td>2008-11-26 01:42:32</td>\n",
              "      <td>9</td>\n",
              "      <td>1</td>\n",
              "      <td>40.0583238</td>\n",
              "      <td>New Jersey</td>\n",
              "      <td>-74.4056612</td>\n",
              "      <td>Sajje Morocco,Brownbum,ZawidaGod,Custodian of ...</td>\n",
              "      <td>AWOL</td>\n",
              "      <td>The list of past projects is 2 long but every1...</td>\n",
              "      <td>['awol']</td>\n",
              "      <td>http://www.AzillionRecords.blogspot.com</td>\n",
              "      <td>NaN</td>\n",
              "      <td>training</td>\n",
              "      <td>small</td>\n",
              "      <td>256000</td>\n",
              "      <td>0</td>\n",
              "      <td>NaN</td>\n",
              "      <td>2008-11-26 01:48:20</td>\n",
              "      <td>2008-11-26 00:00:00</td>\n",
              "      <td>206</td>\n",
              "      <td>6</td>\n",
              "      <td>Hip-Hop</td>\n",
              "      <td>[21]</td>\n",
              "      <td>[21]</td>\n",
              "      <td>NaN</td>\n",
              "      <td>1933</td>\n",
              "      <td>en</td>\n",
              "      <td>Attribution-NonCommercial-ShareAlike 3.0 Inter...</td>\n",
              "      <td>1151</td>\n",
              "      <td>NaN</td>\n",
              "      <td>6</td>\n",
              "      <td>NaN</td>\n",
              "      <td>[]</td>\n",
              "      <td>This World</td>\n",
              "    </tr>\n",
              "  </tbody>\n",
              "</table>\n",
              "</div>"
            ],
            "text/plain": [
              "  Unnamed: 0     album              album.1  ...   track.17 track.18      track.19\n",
              "0        NaN  comments         date_created  ...  publisher     tags         title\n",
              "1   track_id       NaN                  NaN  ...        NaN      NaN           NaN\n",
              "2          2         0  2008-11-26 01:44:45  ...        NaN       []          Food\n",
              "3          3         0  2008-11-26 01:44:45  ...        NaN       []  Electric Ave\n",
              "4          5         0  2008-11-26 01:44:45  ...        NaN       []    This World\n",
              "\n",
              "[5 rows x 53 columns]"
            ]
          },
          "metadata": {
            "tags": []
          },
          "execution_count": 53
        }
      ]
    },
    {
      "cell_type": "markdown",
      "metadata": {
        "id": "bewUy2qn5j2V",
        "colab_type": "text"
      },
      "source": [
        "The data is organized into folders, each containing audio files labeled by track_id"
      ]
    },
    {
      "cell_type": "code",
      "metadata": {
        "id": "k0GsfWNl6ya6",
        "colab_type": "code",
        "outputId": "4a1289c3-be1d-48a1-f084-4305d5b79203",
        "colab": {
          "base_uri": "https://localhost:8080/",
          "height": 235
        }
      },
      "source": [
        "!ls /root/.keras/datasets/fma_small"
      ],
      "execution_count": 40,
      "outputs": [
        {
          "output_type": "stream",
          "text": [
            "000  012  024  036  048  060  072  084\t096  108  120  132  144  checksums\n",
            "001  013  025  037  049  061  073  085\t097  109  121  133  145  README.txt\n",
            "002  014  026  038  050  062  074  086\t098  110  122  134  146\n",
            "003  015  027  039  051  063  075  087\t099  111  123  135  147\n",
            "004  016  028  040  052  064  076  088\t100  112  124  136  148\n",
            "005  017  029  041  053  065  077  089\t101  113  125  137  149\n",
            "006  018  030  042  054  066  078  090\t102  114  126  138  150\n",
            "007  019  031  043  055  067  079  091\t103  115  127  139  151\n",
            "008  020  032  044  056  068  080  092\t104  116  128  140  152\n",
            "009  021  033  045  057  069  081  093\t105  117  129  141  153\n",
            "010  022  034  046  058  070  082  094\t106  118  130  142  154\n",
            "011  023  035  047  059  071  083  095\t107  119  131  143  155\n"
          ],
          "name": "stdout"
        }
      ]
    },
    {
      "cell_type": "markdown",
      "metadata": {
        "id": "tC9XalzTGSl9",
        "colab_type": "text"
      },
      "source": [
        "Viewing contents of one folder..."
      ]
    },
    {
      "cell_type": "code",
      "metadata": {
        "id": "ge0kM2wuqJIT",
        "colab_type": "code",
        "outputId": "76cc9688-ecb7-4752-e95a-3c562d0b07b2",
        "colab": {
          "base_uri": "https://localhost:8080/",
          "height": 217
        }
      },
      "source": [
        "!ls /root/.keras/datasets/fma_small/000"
      ],
      "execution_count": 41,
      "outputs": [
        {
          "output_type": "stream",
          "text": [
            "000002.mp3  000200.mp3\t000424.mp3  000666.mp3\t000709.mp3  000890.mp3\n",
            "000005.mp3  000203.mp3\t000459.mp3  000667.mp3\t000714.mp3  000892.mp3\n",
            "000010.mp3  000204.mp3\t000534.mp3  000676.mp3\t000715.mp3  000897.mp3\n",
            "000140.mp3  000207.mp3\t000540.mp3  000690.mp3\t000716.mp3  000993.mp3\n",
            "000141.mp3  000210.mp3\t000546.mp3  000694.mp3\t000718.mp3  000995.mp3\n",
            "000148.mp3  000211.mp3\t000574.mp3  000695.mp3\t000777.mp3  000997.mp3\n",
            "000182.mp3  000212.mp3\t000602.mp3  000704.mp3\t000814.mp3  000998.mp3\n",
            "000190.mp3  000213.mp3\t000615.mp3  000705.mp3\t000821.mp3\n",
            "000193.mp3  000255.mp3\t000620.mp3  000706.mp3\t000822.mp3\n",
            "000194.mp3  000256.mp3\t000621.mp3  000707.mp3\t000825.mp3\n",
            "000197.mp3  000368.mp3\t000625.mp3  000708.mp3\t000853.mp3\n"
          ],
          "name": "stdout"
        }
      ]
    },
    {
      "cell_type": "markdown",
      "metadata": {
        "id": "nwbVhKvuGU0M",
        "colab_type": "text"
      },
      "source": [
        "Viewing contents of another folder..."
      ]
    },
    {
      "cell_type": "code",
      "metadata": {
        "id": "I5-TLVfU6qpn",
        "colab_type": "code",
        "outputId": "c3cb9215-a8c1-4f26-a240-b4510e375e2f",
        "colab": {
          "base_uri": "https://localhost:8080/",
          "height": 199
        }
      },
      "source": [
        "!ls /root/.keras/datasets/fma_small/001"
      ],
      "execution_count": 42,
      "outputs": [
        {
          "output_type": "stream",
          "text": [
            "001039.mp3  001193.mp3\t001417.mp3  001663.mp3\t001687.mp3  001733.mp3\n",
            "001040.mp3  001195.mp3\t001427.mp3  001666.mp3\t001688.mp3  001735.mp3\n",
            "001066.mp3  001196.mp3\t001443.mp3  001673.mp3\t001689.mp3  001736.mp3\n",
            "001069.mp3  001197.mp3\t001482.mp3  001680.mp3\t001701.mp3  001883.mp3\n",
            "001073.mp3  001249.mp3\t001510.mp3  001681.mp3\t001702.mp3  001891.mp3\n",
            "001075.mp3  001259.mp3\t001544.mp3  001682.mp3\t001703.mp3  001893.mp3\n",
            "001082.mp3  001270.mp3\t001642.mp3  001683.mp3\t001704.mp3  001924.mp3\n",
            "001083.mp3  001276.mp3\t001644.mp3  001684.mp3\t001706.mp3  001925.mp3\n",
            "001087.mp3  001277.mp3\t001649.mp3  001685.mp3\t001720.mp3  001929.mp3\n",
            "001102.mp3  001278.mp3\t001661.mp3  001686.mp3\t001732.mp3  001930.mp3\n"
          ],
          "name": "stdout"
        }
      ]
    },
    {
      "cell_type": "markdown",
      "metadata": {
        "id": "Q0ODGz0qxvdR",
        "colab_type": "text"
      },
      "source": [
        "# Data Preprocessing (in progress)"
      ]
    },
    {
      "cell_type": "markdown",
      "metadata": {
        "id": "EHEPp1DREFzg",
        "colab_type": "text"
      },
      "source": [
        "The first step is to convert the mp3 file into a tensor"
      ]
    },
    {
      "cell_type": "code",
      "metadata": {
        "id": "QTe-PTfW9kqW",
        "colab_type": "code",
        "outputId": "07fd727a-1c32-4f93-b89d-0a0addb96118",
        "colab": {
          "base_uri": "https://localhost:8080/",
          "height": 278
        }
      },
      "source": [
        "\n",
        "import matplotlib.pyplot as plt\n",
        "\n",
        "# https://stackoverflow.com/questions/41109652/how-to-read-ogg-or-mp3-audio-files-in-a-tensorflow-graph\n",
        "dataset = tf.data.Dataset.list_files('/root/.keras/datasets/fma_small/000/*')\n",
        "\n",
        "def decode_mp3(mp3_path):\n",
        "    mp3_audio = AudioSegment.from_file(mp3_path, format=\"mp3\")\n",
        "    return mp3_audio.get_array_of_samples()\n",
        "    \n",
        "src = \"/root/.keras/datasets/fma_small/000/000002.mp3\"\n",
        "\n",
        "\n",
        "data = decode_mp3(src)\n",
        "plt.plot(data)\n",
        "plt.show()"
      ],
      "execution_count": 49,
      "outputs": [
        {
          "output_type": "display_data",
          "data": {
            "image/png": "[encoded data removed]",
            "text/plain": [
              "<Figure size 432x288 with 1 Axes>"
            ]
          },
          "metadata": {
            "tags": []
          }
        }
      ]
    },
    {
      "cell_type": "code",
      "metadata": {
        "id": "ZONdNdbGC_lo",
        "colab_type": "code",
        "colab": {
          "base_uri": "https://localhost:8080/",
          "height": 35
        },
        "outputId": "b9961f33-d4ca-49a5-a619-781c371d8449"
      },
      "source": [
        "data_tensor = tf.convert_to_tensor(data)\n",
        "data_tensor.shape"
      ],
      "execution_count": 51,
      "outputs": [
        {
          "output_type": "execute_result",
          "data": {
            "text/plain": [
              "TensorShape([Dimension(2643934)])"
            ]
          },
          "metadata": {
            "tags": []
          },
          "execution_count": 51
        }
      ]
    },
    {
      "cell_type": "markdown",
      "metadata": {
        "id": "sGO6A1WFGnVT",
        "colab_type": "text"
      },
      "source": [
        "#Desired output\n",
        "The fully trained model will take an input of random noise and generate an mp3 audio file.\n",
        "\n",
        "#Potential challenges\n",
        "Since most existing work using MIDI files, not sequential sampled data like an mp3 file, my expectations for a result are very low. Specific challenges I expect to encounter:\n",
        "1. Difficulty extracting useful patterns due to the complexity of sound data\n",
        "2. The audio is mixed lyrical and instrumental, so the combination of data types could introduce confusion"
      ]
    },
    {
      "cell_type": "markdown",
      "metadata": {
        "id": "fJqZRzLPI9O_",
        "colab_type": "text"
      },
      "source": [
        "#Next steps:\n",
        "1. Read ahead in Chollet on GANs\n",
        "2. Continue data-preprocessing\n",
        "3. Create initial model\n",
        "4. Develop script for execution on USMA machine"
      ]
    }
  ]
}